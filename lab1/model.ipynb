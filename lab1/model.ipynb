{
  "cells": [
    {
      "cell_type": "markdown",
      "metadata": {
        "id": "qYmYGLPu4Yi3"
      },
      "source": [
        "# Классификация вопросов на Stack Overflow"
      ]
    },
    {
      "cell_type": "markdown",
      "metadata": {
        "id": "M-VHQzTSQ17E"
      },
      "source": [
        "Этот набор данных, содержит 60000 вопросов, заданных на Stack Overflow. Вопросы подразделяются на три категории:\n",
        "\n",
        "- `HQ`: Высококачественные посты с 30+ баллами и без единой правки.\n",
        "- `LQ_CLOSE`: Посты низкого качества, которые были закрыты сообществом без единой правки.\n",
        "- `LQ_EDIT`: Некачественные посты с отрицательной оценкой и многочисленными правками сообщества. Однако они все еще остаются открытыми после этих изменений."
      ]
    },
    {
      "cell_type": "code",
      "execution_count": 16,
      "metadata": {
        "id": "2P7ufzQ3RjIi"
      },
      "outputs": [],
      "source": [
        "import os\n",
        "import re\n",
        "from collections import Counter\n",
        "\n",
        "import gensim.downloader as api\n",
        "import keras\n",
        "import keras.layers as L\n",
        "import matplotlib.pyplot as plt\n",
        "import numpy as np\n",
        "import pandas as pd\n",
        "import plotly.express as px\n",
        "from gensim.models import KeyedVectors\n",
        "from keras.backend import expand_dims\n",
        "from nltk.tokenize import WordPunctTokenizer\n",
        "from sklearn.ensemble import RandomForestClassifier\n",
        "from sklearn.feature_extraction import DictVectorizer\n",
        "from sklearn.feature_extraction.text import CountVectorizer, TfidfVectorizer\n",
        "from sklearn.linear_model import LogisticRegression\n",
        "from sklearn.metrics import confusion_matrix, f1_score\n",
        "from sklearn.model_selection import train_test_split"
      ]
    },
    {
      "cell_type": "markdown",
      "metadata": {
        "id": "7fcsvNZtQ_qm"
      },
      "source": [
        "## Чтение данных"
      ]
    },
    {
      "cell_type": "code",
      "execution_count": 17,
      "metadata": {
        "colab": {
          "base_uri": "https://localhost:8080/"
        },
        "id": "x19c3c5QQ9Ah",
        "outputId": "f932aa21-219b-436b-f72b-1e9047b3973e"
      },
      "outputs": [
        {
          "name": "stdout",
          "output_type": "stream",
          "text": [
            "Drive already mounted at /content/drive; to attempt to forcibly remount, call drive.mount(\"/content/drive\", force_remount=True).\n"
          ]
        }
      ],
      "source": [
        "from google.colab import drive\n",
        "\n",
        "drive.mount('/content/drive')\n",
        "df = '/content/drive/My Drive/NLP/Data_lab1'"
      ]
    },
    {
      "cell_type": "code",
      "execution_count": 18,
      "metadata": {
        "id": "2J7ikYLeRPfd"
      },
      "outputs": [],
      "source": [
        "raw_data = pd.read_parquet(os.path.join(df, 'train.parquet'))"
      ]
    },
    {
      "cell_type": "code",
      "execution_count": 19,
      "metadata": {
        "colab": {
          "base_uri": "https://localhost:8080/"
        },
        "id": "t3Q5tDT-Rsux",
        "outputId": "bda4e3cd-39c0-4407-ebeb-e0061285a87c"
      },
      "outputs": [
        {
          "data": {
            "text/plain": [
              "(48000, 4)"
            ]
          },
          "execution_count": 19,
          "metadata": {},
          "output_type": "execute_result"
        }
      ],
      "source": [
        "raw_data.shape"
      ]
    },
    {
      "cell_type": "code",
      "execution_count": 20,
      "metadata": {
        "colab": {
          "base_uri": "https://localhost:8080/",
          "height": 238
        },
        "id": "cbxqSzRnRueg",
        "outputId": "6425e7d7-fc8f-4f8c-f4ec-7daafbeb52de"
      },
      "outputs": [
        {
          "data": {
            "text/html": [
              "<div>\n",
              "<style scoped>\n",
              "    .dataframe tbody tr th:only-of-type {\n",
              "        vertical-align: middle;\n",
              "    }\n",
              "\n",
              "    .dataframe tbody tr th {\n",
              "        vertical-align: top;\n",
              "    }\n",
              "\n",
              "    .dataframe thead th {\n",
              "        text-align: right;\n",
              "    }\n",
              "</style>\n",
              "<table border=\"1\" class=\"dataframe\">\n",
              "  <thead>\n",
              "    <tr style=\"text-align: right;\">\n",
              "      <th></th>\n",
              "      <th>Body</th>\n",
              "      <th>Tags</th>\n",
              "      <th>Title</th>\n",
              "      <th>target</th>\n",
              "    </tr>\n",
              "    <tr>\n",
              "      <th>Id</th>\n",
              "      <th></th>\n",
              "      <th></th>\n",
              "      <th></th>\n",
              "      <th></th>\n",
              "    </tr>\n",
              "  </thead>\n",
              "  <tbody>\n",
              "    <tr>\n",
              "      <th>34862324</th>\n",
              "      <td>Algorithmm:\\r\\n\\r\\n**input :** Graph G\\r\\n\\r\\n...</td>\n",
              "      <td>&lt;java&gt;&lt;algorithm&gt;&lt;graph-algorithm&gt;</td>\n",
              "      <td>I am implementing a Minimum Spanning Forrest a...</td>\n",
              "      <td>2</td>\n",
              "    </tr>\n",
              "    <tr>\n",
              "      <th>47303682</th>\n",
              "      <td>While converting the data frame to HTML, Date ...</td>\n",
              "      <td>&lt;html&gt;&lt;r&gt;&lt;dataframe&gt;</td>\n",
              "      <td>R Studio: Date is getting converted to number,...</td>\n",
              "      <td>2</td>\n",
              "    </tr>\n",
              "    <tr>\n",
              "      <th>46431243</th>\n",
              "      <td>&lt;p&gt;This should be an easy one, but somehow I c...</td>\n",
              "      <td>&lt;python&gt;&lt;pandas&gt;&lt;dataframe&gt;&lt;pandas-groupby&gt;</td>\n",
              "      <td>Pandas - dataframe groupby - how to get sum of...</td>\n",
              "      <td>0</td>\n",
              "    </tr>\n",
              "    <tr>\n",
              "      <th>45306324</th>\n",
              "      <td>&lt;p&gt;Let say I have a component in Angular 2 tha...</td>\n",
              "      <td>&lt;angular&gt;&lt;typescript&gt;&lt;rxjs&gt;</td>\n",
              "      <td>Casting results from Observable.forkJoin to th...</td>\n",
              "      <td>0</td>\n",
              "    </tr>\n",
              "    <tr>\n",
              "      <th>49479547</th>\n",
              "      <td>&lt;p&gt;I'm setting a var using \\n&lt;code&gt;set TEST_VA...</td>\n",
              "      <td>&lt;c&gt;&lt;windows&gt;&lt;batch-file&gt;</td>\n",
              "      <td>Environment variable set in batch file cannot ...</td>\n",
              "      <td>1</td>\n",
              "    </tr>\n",
              "  </tbody>\n",
              "</table>\n",
              "</div>"
            ],
            "text/plain": [
              "                                                       Body  ... target\n",
              "Id                                                           ...       \n",
              "34862324  Algorithmm:\\r\\n\\r\\n**input :** Graph G\\r\\n\\r\\n...  ...      2\n",
              "47303682  While converting the data frame to HTML, Date ...  ...      2\n",
              "46431243  <p>This should be an easy one, but somehow I c...  ...      0\n",
              "45306324  <p>Let say I have a component in Angular 2 tha...  ...      0\n",
              "49479547  <p>I'm setting a var using \\n<code>set TEST_VA...  ...      1\n",
              "\n",
              "[5 rows x 4 columns]"
            ]
          },
          "execution_count": 20,
          "metadata": {},
          "output_type": "execute_result"
        }
      ],
      "source": [
        "raw_data.head()"
      ]
    },
    {
      "cell_type": "code",
      "execution_count": 21,
      "metadata": {
        "colab": {
          "base_uri": "https://localhost:8080/",
          "height": 238
        },
        "id": "Z01cIyxVSLZz",
        "outputId": "543ec129-9325-41fa-ca9a-1e4efa1e0f24"
      },
      "outputs": [
        {
          "data": {
            "text/html": [
              "<div>\n",
              "<style scoped>\n",
              "    .dataframe tbody tr th:only-of-type {\n",
              "        vertical-align: middle;\n",
              "    }\n",
              "\n",
              "    .dataframe tbody tr th {\n",
              "        vertical-align: top;\n",
              "    }\n",
              "\n",
              "    .dataframe thead th {\n",
              "        text-align: right;\n",
              "    }\n",
              "</style>\n",
              "<table border=\"1\" class=\"dataframe\">\n",
              "  <thead>\n",
              "    <tr style=\"text-align: right;\">\n",
              "      <th></th>\n",
              "      <th>Body</th>\n",
              "      <th>Tags</th>\n",
              "      <th>Title</th>\n",
              "      <th>target</th>\n",
              "    </tr>\n",
              "    <tr>\n",
              "      <th>Id</th>\n",
              "      <th></th>\n",
              "      <th></th>\n",
              "      <th></th>\n",
              "      <th></th>\n",
              "    </tr>\n",
              "  </thead>\n",
              "  <tbody>\n",
              "    <tr>\n",
              "      <th>35488105</th>\n",
              "      <td>&lt;p&gt;Aspx Webpage accepting value in DD/mm/yyyy ...</td>\n",
              "      <td>&lt;c#&gt;&lt;asp.net&gt;&lt;datetime&gt;&lt;textbox&gt;</td>\n",
              "      <td>textbox user control not displaying date in DD...</td>\n",
              "      <td>1</td>\n",
              "    </tr>\n",
              "    <tr>\n",
              "      <th>37045803</th>\n",
              "      <td>&lt;p&gt;I am making a program in C#. I want it to d...</td>\n",
              "      <td>&lt;c#&gt;&lt;image&gt;&lt;detection&gt;</td>\n",
              "      <td>C# do something based on image detection</td>\n",
              "      <td>1</td>\n",
              "    </tr>\n",
              "    <tr>\n",
              "      <th>43601747</th>\n",
              "      <td>&lt;p&gt;The &lt;a href=\"https://kafka.apache.org/0100/...</td>\n",
              "      <td>&lt;java&gt;&lt;apache-kafka&gt;&lt;kafka-producer-api&gt;</td>\n",
              "      <td>KafkaProducer: Difference between `callback` a...</td>\n",
              "      <td>0</td>\n",
              "    </tr>\n",
              "    <tr>\n",
              "      <th>40505904</th>\n",
              "      <td>&lt;p&gt;Using the new pull request approval process...</td>\n",
              "      <td>&lt;github&gt;</td>\n",
              "      <td>Is there a way to make Github un-approve a pul...</td>\n",
              "      <td>0</td>\n",
              "    </tr>\n",
              "    <tr>\n",
              "      <th>40415937</th>\n",
              "      <td>i have taken three arrays one Array for saving...</td>\n",
              "      <td>&lt;ios&gt;&lt;objective-c&gt;&lt;uitableview&gt;</td>\n",
              "      <td>how to delete more than two Array Objects in t...</td>\n",
              "      <td>2</td>\n",
              "    </tr>\n",
              "  </tbody>\n",
              "</table>\n",
              "</div>"
            ],
            "text/plain": [
              "                                                       Body  ... target\n",
              "Id                                                           ...       \n",
              "35488105  <p>Aspx Webpage accepting value in DD/mm/yyyy ...  ...      1\n",
              "37045803  <p>I am making a program in C#. I want it to d...  ...      1\n",
              "43601747  <p>The <a href=\"https://kafka.apache.org/0100/...  ...      0\n",
              "40505904  <p>Using the new pull request approval process...  ...      0\n",
              "40415937  i have taken three arrays one Array for saving...  ...      2\n",
              "\n",
              "[5 rows x 4 columns]"
            ]
          },
          "execution_count": 21,
          "metadata": {},
          "output_type": "execute_result"
        }
      ],
      "source": [
        "raw_data.tail()"
      ]
    },
    {
      "cell_type": "code",
      "execution_count": 22,
      "metadata": {
        "colab": {
          "base_uri": "https://localhost:8080/"
        },
        "id": "ySHNuMIPSNHU",
        "outputId": "f092f59e-b12e-4088-9ca6-565b069066b5"
      },
      "outputs": [
        {
          "name": "stdout",
          "output_type": "stream",
          "text": [
            "<class 'pandas.core.frame.DataFrame'>\n",
            "Int64Index: 48000 entries, 34862324 to 40415937\n",
            "Data columns (total 4 columns):\n",
            " #   Column  Non-Null Count  Dtype \n",
            "---  ------  --------------  ----- \n",
            " 0   Body    48000 non-null  object\n",
            " 1   Tags    48000 non-null  object\n",
            " 2   Title   48000 non-null  object\n",
            " 3   target  48000 non-null  int64 \n",
            "dtypes: int64(1), object(3)\n",
            "memory usage: 1.8+ MB\n"
          ]
        }
      ],
      "source": [
        "raw_data.info()"
      ]
    },
    {
      "cell_type": "code",
      "execution_count": 23,
      "metadata": {
        "colab": {
          "base_uri": "https://localhost:8080/"
        },
        "id": "8-PVKVofX45G",
        "outputId": "d69a516e-093b-4875-cc3e-923ef73660bf"
      },
      "outputs": [
        {
          "data": {
            "text/plain": [
              "Body      0\n",
              "Tags      0\n",
              "Title     0\n",
              "target    0\n",
              "dtype: int64"
            ]
          },
          "execution_count": 23,
          "metadata": {},
          "output_type": "execute_result"
        }
      ],
      "source": [
        "raw_data.isnull().sum()"
      ]
    },
    {
      "cell_type": "markdown",
      "metadata": {
        "id": "AjlFXj4FX95H"
      },
      "source": [
        "Пропущенные значения отсутствуют."
      ]
    },
    {
      "cell_type": "markdown",
      "metadata": {
        "id": "8TBMCaUASz1R"
      },
      "source": [
        "## Exploratory Data Analysis"
      ]
    },
    {
      "cell_type": "markdown",
      "metadata": {
        "id": "Rc0XL17s3xN-"
      },
      "source": [
        "Объединим `Title` и `Body` поста в `Text`, а также удалим `Tags`"
      ]
    },
    {
      "cell_type": "code",
      "execution_count": 24,
      "metadata": {
        "id": "LGrB4NIN3xfG"
      },
      "outputs": [],
      "source": [
        "data = raw_data.copy()\n",
        "data['Text'] = data['Title'] + \" \" + data['Body']\n",
        "columns_to_drop = ['Tags', 'Title', 'Body']\n",
        "data.drop(columns_to_drop, axis=1, inplace=True)"
      ]
    },
    {
      "cell_type": "code",
      "execution_count": 25,
      "metadata": {
        "colab": {
          "base_uri": "https://localhost:8080/",
          "height": 536
        },
        "id": "m7HfUkZjaHCX",
        "outputId": "0168ab0e-09c8-40f4-afb6-2495da698450"
      },
      "outputs": [
        {
          "data": {
            "image/png": "[encoded data removed]",
            "text/plain": [
              "<Figure size 1152x648 with 1 Axes>"
            ]
          },
          "metadata": {},
          "output_type": "display_data"
        }
      ],
      "source": [
        "plt.figure(figsize=(16, 9))\n",
        "colors_list = ['#ffe4c4', '#8a3324', '#ff9966']\n",
        "plt.pie(data['target'].value_counts(),\n",
        "        labels=['HQ(target = 0)', 'LQ_CLOSE(target = 1)', 'LQ_EDIT(target = 2)'],\n",
        "        colors=colors_list,\n",
        "        autopct='%.2f%%'\n",
        ")\n",
        "plt.title(\"Target distribution\")\n",
        "pass"
      ]
    },
    {
      "cell_type": "markdown",
      "metadata": {
        "id": "UytyOBn8dk4M"
      },
      "source": [
        "Из круговой диаграммы можно сделать вывод, что классы сбалансированны."
      ]
    },
    {
      "cell_type": "code",
      "execution_count": 26,
      "metadata": {
        "colab": {
          "base_uri": "https://localhost:8080/",
          "height": 542
        },
        "id": "7_YTA3u-xcKF",
        "outputId": "1c33ad97-61c3-47a1-8b58-f297c998eba3"
      },
      "outputs": [
        {
          "data": {
            "text/html": [
              "<html>\n",
              "<head><meta charset=\"utf-8\" /></head>\n",
              "<body>\n",
              "    <div>\n",
              "            <script src=\"https://cdnjs.cloudflare.com/ajax/libs/mathjax/2.7.5/MathJax.js?config=TeX-AMS-MML_SVG\"></script><script type=\"text/javascript\">if (window.MathJax) {MathJax.Hub.Config({SVG: {font: \"STIX-Web\"}});}</script>\n",
              "                <script type=\"text/javascript\">window.PlotlyConfig = {MathJaxConfig: 'local'};</script>\n",
              "        <script src=\"https://cdn.plot.ly/plotly-latest.min.js\"></script>    \n",
              "            <div id=\"58240c4f-570d-4ea2-b9b4-f7f9b45c00a9\" class=\"plotly-graph-div\" style=\"height:525px; width:100%;\"></div>\n",
              "            <script type=\"text/javascript\">\n",
              "                \n",
              "                    window.PLOTLYENV=window.PLOTLYENV || {};\n",
              "                    \n",
              "                if (document.getElementById(\"58240c4f-570d-4ea2-b9b4-f7f9b45c00a9\")) {\n",
              "                    Plotly.newPlot(\n",
              "                        '58240c4f-570d-4ea2-b9b4-f7f9b45c00a9',\n",
              "                        [{\"alignmentgroup\": \"True\", \"hoverlabel\": {\"namelength\": 0}, \"hovertemplate\": \"Words=%{x}<br>Count=%{y}\", \"legendgroup\": \"\", \"marker\": {\"color\": \"#636efa\"}, \"name\": \"\", \"offsetgroup\": \"\", \"orientation\": \"v\", \"showlegend\": false, \"textposition\": \"auto\", \"type\": \"bar\", \"x\": [\"the\", \"code\", \"to\", \"in\", \"is\", \"and\", \"gt\", \"lt\", \"pre\", \"this\", \"of\", \"it\", \"for\", \"if\", \"that\"], \"xaxis\": \"x\", \"y\": [173826, 147448, 144464, 86150, 77406, 71115, 70958, 67198, 66152, 59949, 53760, 49800, 44529, 37104, 35396], \"yaxis\": \"y\"}],\n",
              "                        {\"barmode\": \"relative\", \"legend\": {\"tracegroupgap\": 0}, \"margin\": {\"t\": 60}, \"template\": {\"data\": {\"bar\": [{\"error_x\": {\"color\": \"#2a3f5f\"}, \"error_y\": {\"color\": \"#2a3f5f\"}, \"marker\": {\"line\": {\"color\": \"#E5ECF6\", \"width\": 0.5}}, \"type\": \"bar\"}], \"barpolar\": [{\"marker\": {\"line\": {\"color\": \"#E5ECF6\", \"width\": 0.5}}, \"type\": \"barpolar\"}], \"carpet\": [{\"aaxis\": {\"endlinecolor\": \"#2a3f5f\", \"gridcolor\": \"white\", \"linecolor\": \"white\", \"minorgridcolor\": \"white\", \"startlinecolor\": \"#2a3f5f\"}, \"baxis\": {\"endlinecolor\": \"#2a3f5f\", \"gridcolor\": \"white\", \"linecolor\": \"white\", \"minorgridcolor\": \"white\", \"startlinecolor\": \"#2a3f5f\"}, \"type\": \"carpet\"}], \"choropleth\": [{\"colorbar\": {\"outlinewidth\": 0, \"ticks\": \"\"}, \"type\": \"choropleth\"}], \"contour\": [{\"colorbar\": {\"outlinewidth\": 0, \"ticks\": \"\"}, \"colorscale\": [[0.0, \"#0d0887\"], [0.1111111111111111, \"#46039f\"], [0.2222222222222222, \"#7201a8\"], [0.3333333333333333, \"#9c179e\"], [0.4444444444444444, \"#bd3786\"], [0.5555555555555556, \"#d8576b\"], [0.6666666666666666, \"#ed7953\"], [0.7777777777777778, \"#fb9f3a\"], [0.8888888888888888, \"#fdca26\"], [1.0, \"#f0f921\"]], \"type\": \"contour\"}], \"contourcarpet\": [{\"colorbar\": {\"outlinewidth\": 0, \"ticks\": \"\"}, \"type\": \"contourcarpet\"}], \"heatmap\": [{\"colorbar\": {\"outlinewidth\": 0, \"ticks\": \"\"}, \"colorscale\": [[0.0, \"#0d0887\"], [0.1111111111111111, \"#46039f\"], [0.2222222222222222, \"#7201a8\"], [0.3333333333333333, \"#9c179e\"], [0.4444444444444444, \"#bd3786\"], [0.5555555555555556, \"#d8576b\"], [0.6666666666666666, \"#ed7953\"], [0.7777777777777778, \"#fb9f3a\"], [0.8888888888888888, \"#fdca26\"], [1.0, \"#f0f921\"]], \"type\": \"heatmap\"}], \"heatmapgl\": [{\"colorbar\": {\"outlinewidth\": 0, \"ticks\": \"\"}, \"colorscale\": [[0.0, \"#0d0887\"], [0.1111111111111111, \"#46039f\"], [0.2222222222222222, \"#7201a8\"], [0.3333333333333333, \"#9c179e\"], [0.4444444444444444, \"#bd3786\"], [0.5555555555555556, \"#d8576b\"], [0.6666666666666666, \"#ed7953\"], [0.7777777777777778, \"#fb9f3a\"], [0.8888888888888888, \"#fdca26\"], [1.0, \"#f0f921\"]], \"type\": \"heatmapgl\"}], \"histogram\": [{\"marker\": {\"colorbar\": {\"outlinewidth\": 0, \"ticks\": \"\"}}, \"type\": \"histogram\"}], \"histogram2d\": [{\"colorbar\": {\"outlinewidth\": 0, \"ticks\": \"\"}, \"colorscale\": [[0.0, \"#0d0887\"], [0.1111111111111111, \"#46039f\"], [0.2222222222222222, \"#7201a8\"], [0.3333333333333333, \"#9c179e\"], [0.4444444444444444, \"#bd3786\"], [0.5555555555555556, \"#d8576b\"], [0.6666666666666666, \"#ed7953\"], [0.7777777777777778, \"#fb9f3a\"], [0.8888888888888888, \"#fdca26\"], [1.0, \"#f0f921\"]], \"type\": \"histogram2d\"}], \"histogram2dcontour\": [{\"colorbar\": {\"outlinewidth\": 0, \"ticks\": \"\"}, \"colorscale\": [[0.0, \"#0d0887\"], [0.1111111111111111, \"#46039f\"], [0.2222222222222222, \"#7201a8\"], [0.3333333333333333, \"#9c179e\"], [0.4444444444444444, \"#bd3786\"], [0.5555555555555556, \"#d8576b\"], [0.6666666666666666, \"#ed7953\"], [0.7777777777777778, \"#fb9f3a\"], [0.8888888888888888, \"#fdca26\"], [1.0, \"#f0f921\"]], \"type\": \"histogram2dcontour\"}], \"mesh3d\": [{\"colorbar\": {\"outlinewidth\": 0, \"ticks\": \"\"}, \"type\": \"mesh3d\"}], \"parcoords\": [{\"line\": {\"colorbar\": {\"outlinewidth\": 0, \"ticks\": \"\"}}, \"type\": \"parcoords\"}], \"pie\": [{\"automargin\": true, \"type\": \"pie\"}], \"scatter\": [{\"marker\": {\"colorbar\": {\"outlinewidth\": 0, \"ticks\": \"\"}}, \"type\": \"scatter\"}], \"scatter3d\": [{\"line\": {\"colorbar\": {\"outlinewidth\": 0, \"ticks\": \"\"}}, \"marker\": {\"colorbar\": {\"outlinewidth\": 0, \"ticks\": \"\"}}, \"type\": \"scatter3d\"}], \"scattercarpet\": [{\"marker\": {\"colorbar\": {\"outlinewidth\": 0, \"ticks\": \"\"}}, \"type\": \"scattercarpet\"}], \"scattergeo\": [{\"marker\": {\"colorbar\": {\"outlinewidth\": 0, \"ticks\": \"\"}}, \"type\": \"scattergeo\"}], \"scattergl\": [{\"marker\": {\"colorbar\": {\"outlinewidth\": 0, \"ticks\": \"\"}}, \"type\": \"scattergl\"}], \"scattermapbox\": [{\"marker\": {\"colorbar\": {\"outlinewidth\": 0, \"ticks\": \"\"}}, \"type\": \"scattermapbox\"}], \"scatterpolar\": [{\"marker\": {\"colorbar\": {\"outlinewidth\": 0, \"ticks\": \"\"}}, \"type\": \"scatterpolar\"}], \"scatterpolargl\": [{\"marker\": {\"colorbar\": {\"outlinewidth\": 0, \"ticks\": \"\"}}, \"type\": \"scatterpolargl\"}], \"scatterternary\": [{\"marker\": {\"colorbar\": {\"outlinewidth\": 0, \"ticks\": \"\"}}, \"type\": \"scatterternary\"}], \"surface\": [{\"colorbar\": {\"outlinewidth\": 0, \"ticks\": \"\"}, \"colorscale\": [[0.0, \"#0d0887\"], [0.1111111111111111, \"#46039f\"], [0.2222222222222222, \"#7201a8\"], [0.3333333333333333, \"#9c179e\"], [0.4444444444444444, \"#bd3786\"], [0.5555555555555556, \"#d8576b\"], [0.6666666666666666, \"#ed7953\"], [0.7777777777777778, \"#fb9f3a\"], [0.8888888888888888, \"#fdca26\"], [1.0, \"#f0f921\"]], \"type\": \"surface\"}], \"table\": [{\"cells\": {\"fill\": {\"color\": \"#EBF0F8\"}, \"line\": {\"color\": \"white\"}}, \"header\": {\"fill\": {\"color\": \"#C8D4E3\"}, \"line\": {\"color\": \"white\"}}, \"type\": \"table\"}]}, \"layout\": {\"annotationdefaults\": {\"arrowcolor\": \"#2a3f5f\", \"arrowhead\": 0, \"arrowwidth\": 1}, \"coloraxis\": {\"colorbar\": {\"outlinewidth\": 0, \"ticks\": \"\"}}, \"colorscale\": {\"diverging\": [[0, \"#8e0152\"], [0.1, \"#c51b7d\"], [0.2, \"#de77ae\"], [0.3, \"#f1b6da\"], [0.4, \"#fde0ef\"], [0.5, \"#f7f7f7\"], [0.6, \"#e6f5d0\"], [0.7, \"#b8e186\"], [0.8, \"#7fbc41\"], [0.9, \"#4d9221\"], [1, \"#276419\"]], \"sequential\": [[0.0, \"#0d0887\"], [0.1111111111111111, \"#46039f\"], [0.2222222222222222, \"#7201a8\"], [0.3333333333333333, \"#9c179e\"], [0.4444444444444444, \"#bd3786\"], [0.5555555555555556, \"#d8576b\"], [0.6666666666666666, \"#ed7953\"], [0.7777777777777778, \"#fb9f3a\"], [0.8888888888888888, \"#fdca26\"], [1.0, \"#f0f921\"]], \"sequentialminus\": [[0.0, \"#0d0887\"], [0.1111111111111111, \"#46039f\"], [0.2222222222222222, \"#7201a8\"], [0.3333333333333333, \"#9c179e\"], [0.4444444444444444, \"#bd3786\"], [0.5555555555555556, \"#d8576b\"], [0.6666666666666666, \"#ed7953\"], [0.7777777777777778, \"#fb9f3a\"], [0.8888888888888888, \"#fdca26\"], [1.0, \"#f0f921\"]]}, \"colorway\": [\"#636efa\", \"#EF553B\", \"#00cc96\", \"#ab63fa\", \"#FFA15A\", \"#19d3f3\", \"#FF6692\", \"#B6E880\", \"#FF97FF\", \"#FECB52\"], \"font\": {\"color\": \"#2a3f5f\"}, \"geo\": {\"bgcolor\": \"white\", \"lakecolor\": \"white\", \"landcolor\": \"#E5ECF6\", \"showlakes\": true, \"showland\": true, \"subunitcolor\": \"white\"}, \"hoverlabel\": {\"align\": \"left\"}, \"hovermode\": \"closest\", \"mapbox\": {\"style\": \"light\"}, \"paper_bgcolor\": \"white\", \"plot_bgcolor\": \"#E5ECF6\", \"polar\": {\"angularaxis\": {\"gridcolor\": \"white\", \"linecolor\": \"white\", \"ticks\": \"\"}, \"bgcolor\": \"#E5ECF6\", \"radialaxis\": {\"gridcolor\": \"white\", \"linecolor\": \"white\", \"ticks\": \"\"}}, \"scene\": {\"xaxis\": {\"backgroundcolor\": \"#E5ECF6\", \"gridcolor\": \"white\", \"gridwidth\": 2, \"linecolor\": \"white\", \"showbackground\": true, \"ticks\": \"\", \"zerolinecolor\": \"white\"}, \"yaxis\": {\"backgroundcolor\": \"#E5ECF6\", \"gridcolor\": \"white\", \"gridwidth\": 2, \"linecolor\": \"white\", \"showbackground\": true, \"ticks\": \"\", \"zerolinecolor\": \"white\"}, \"zaxis\": {\"backgroundcolor\": \"#E5ECF6\", \"gridcolor\": \"white\", \"gridwidth\": 2, \"linecolor\": \"white\", \"showbackground\": true, \"ticks\": \"\", \"zerolinecolor\": \"white\"}}, \"shapedefaults\": {\"line\": {\"color\": \"#2a3f5f\"}}, \"ternary\": {\"aaxis\": {\"gridcolor\": \"white\", \"linecolor\": \"white\", \"ticks\": \"\"}, \"baxis\": {\"gridcolor\": \"white\", \"linecolor\": \"white\", \"ticks\": \"\"}, \"bgcolor\": \"#E5ECF6\", \"caxis\": {\"gridcolor\": \"white\", \"linecolor\": \"white\", \"ticks\": \"\"}}, \"title\": {\"x\": 0.05}, \"xaxis\": {\"automargin\": true, \"gridcolor\": \"white\", \"linecolor\": \"white\", \"ticks\": \"\", \"title\": {\"standoff\": 15}, \"zerolinecolor\": \"white\", \"zerolinewidth\": 2}, \"yaxis\": {\"automargin\": true, \"gridcolor\": \"white\", \"linecolor\": \"white\", \"ticks\": \"\", \"title\": {\"standoff\": 15}, \"zerolinecolor\": \"white\", \"zerolinewidth\": 2}}}, \"title\": {\"text\": \"The most common words in the text\"}, \"xaxis\": {\"anchor\": \"y\", \"domain\": [0.0, 1.0], \"title\": {\"text\": \"Words\"}}, \"yaxis\": {\"anchor\": \"x\", \"domain\": [0.0, 1.0], \"title\": {\"text\": \"Counts\"}}},\n",
              "                        {\"responsive\": true}\n",
              "                    ).then(function(){\n",
              "                            \n",
              "var gd = document.getElementById('58240c4f-570d-4ea2-b9b4-f7f9b45c00a9');\n",
              "var x = new MutationObserver(function (mutations, observer) {{\n",
              "        var display = window.getComputedStyle(gd).display;\n",
              "        if (!display || display === 'none') {{\n",
              "            console.log([gd, 'removed!']);\n",
              "            Plotly.purge(gd);\n",
              "            observer.disconnect();\n",
              "        }}\n",
              "}});\n",
              "\n",
              "// Listen for the removal of the full notebook cells\n",
              "var notebookContainer = gd.closest('#notebook-container');\n",
              "if (notebookContainer) {{\n",
              "    x.observe(notebookContainer, {childList: true});\n",
              "}}\n",
              "\n",
              "// Listen for the clearing of the current output cell\n",
              "var outputEl = gd.closest('.output');\n",
              "if (outputEl) {{\n",
              "    x.observe(outputEl, {childList: true});\n",
              "}}\n",
              "\n",
              "                        })\n",
              "                };\n",
              "                \n",
              "            </script>\n",
              "        </div>\n",
              "</body>\n",
              "</html>"
            ]
          },
          "metadata": {},
          "output_type": "display_data"
        }
      ],
      "source": [
        "def getTopNumberOfWords(corpus, n=15) -> pd.DataFrame:\n",
        "    vec = CountVectorizer().fit(corpus)\n",
        "    bow = vec.transform(corpus)\n",
        "    bow = bow.sum(0)\n",
        "    top = [(word, bow[0, index]) for word, index in vec.vocabulary_.items()]\n",
        "    top = sorted(top, key=lambda x: x[1], reverse=True)\n",
        "    top = pd.DataFrame(top[:n], columns=['Words', 'Count'])\n",
        "    return top\n",
        "\n",
        "text_ = getTopNumberOfWords(data['Text'])\n",
        "\n",
        "fig = px.bar(text_, x='Words', y='Count')\n",
        "fig.update_layout(title='The most common words in the text',\n",
        "                  xaxis=dict(title='Words'),\n",
        "                  yaxis=dict(title='Counts'))\n",
        "fig.show()"
      ]
    },
    {
      "cell_type": "markdown",
      "metadata": {
        "id": "tZfNPg4koyHQ"
      },
      "source": [
        "## Предварительная обработка данных"
      ]
    },
    {
      "cell_type": "markdown",
      "metadata": {
        "id": "TfzTlXWaqji7"
      },
      "source": [
        "Для повышения точности нашей модели, необходимо обработать данные, используя различные методы:\n",
        "\n",
        "\n"
      ]
    },
    {
      "cell_type": "markdown",
      "metadata": {
        "id": "yS-0dmNsqq3j"
      },
      "source": [
        "- Токенизация слов:"
      ]
    },
    {
      "cell_type": "code",
      "execution_count": 27,
      "metadata": {
        "id": "X1y5iIr6q6Cu"
      },
      "outputs": [],
      "source": [
        "tokenizer = WordPunctTokenizer()\n",
        "def word_tokenize(text):\n",
        "  return ' '.join(tokenizer.tokenize(text))"
      ]
    },
    {
      "cell_type": "markdown",
      "metadata": {
        "id": "2HNi2TqJqq8l"
      },
      "source": [
        "- Удаление всех символов, кроме латиницы и пробелов + приведение текста к нижнему регистру:"
      ]
    },
    {
      "cell_type": "code",
      "execution_count": 28,
      "metadata": {
        "id": "t37WdFJyq7-0"
      },
      "outputs": [],
      "source": [
        "def clean_text(text):\n",
        "  text = text.lower()\n",
        "  text = re.sub(r'[^(a-zA-Z)\\s]','', text)\n",
        "  return text"
      ]
    },
    {
      "cell_type": "markdown",
      "metadata": {
        "id": "r6Y0xF0F7hJH"
      },
      "source": [
        "Выполним обработку `Text`:"
      ]
    },
    {
      "cell_type": "code",
      "execution_count": 29,
      "metadata": {
        "id": "Ol5opWk07gXe"
      },
      "outputs": [],
      "source": [
        "data['Text'] = data['Text'].apply(clean_text)\n",
        "data['Text'] = data['Text'].apply(word_tokenize)"
      ]
    },
    {
      "cell_type": "code",
      "execution_count": 30,
      "metadata": {
        "colab": {
          "base_uri": "https://localhost:8080/",
          "height": 238
        },
        "id": "1J9-p5pTq8Uo",
        "outputId": "c53e200b-c3e1-42fa-d4b0-9f0afc6e9786"
      },
      "outputs": [
        {
          "data": {
            "text/html": [
              "<div>\n",
              "<style scoped>\n",
              "    .dataframe tbody tr th:only-of-type {\n",
              "        vertical-align: middle;\n",
              "    }\n",
              "\n",
              "    .dataframe tbody tr th {\n",
              "        vertical-align: top;\n",
              "    }\n",
              "\n",
              "    .dataframe thead th {\n",
              "        text-align: right;\n",
              "    }\n",
              "</style>\n",
              "<table border=\"1\" class=\"dataframe\">\n",
              "  <thead>\n",
              "    <tr style=\"text-align: right;\">\n",
              "      <th></th>\n",
              "      <th>target</th>\n",
              "      <th>Text</th>\n",
              "    </tr>\n",
              "    <tr>\n",
              "      <th>Id</th>\n",
              "      <th></th>\n",
              "      <th></th>\n",
              "    </tr>\n",
              "  </thead>\n",
              "  <tbody>\n",
              "    <tr>\n",
              "      <th>34862324</th>\n",
              "      <td>2</td>\n",
              "      <td>i am implementing a minimum spanning forrest a...</td>\n",
              "    </tr>\n",
              "    <tr>\n",
              "      <th>47303682</th>\n",
              "      <td>2</td>\n",
              "      <td>r studio date is getting converted to number w...</td>\n",
              "    </tr>\n",
              "    <tr>\n",
              "      <th>46431243</th>\n",
              "      <td>0</td>\n",
              "      <td>pandas dataframe groupby how to get sum of mul...</td>\n",
              "    </tr>\n",
              "    <tr>\n",
              "      <th>45306324</th>\n",
              "      <td>0</td>\n",
              "      <td>casting results from observableforkjoin to the...</td>\n",
              "    </tr>\n",
              "    <tr>\n",
              "      <th>49479547</th>\n",
              "      <td>1</td>\n",
              "      <td>environment variable set in batch file cannot ...</td>\n",
              "    </tr>\n",
              "  </tbody>\n",
              "</table>\n",
              "</div>"
            ],
            "text/plain": [
              "          target                                               Text\n",
              "Id                                                                 \n",
              "34862324       2  i am implementing a minimum spanning forrest a...\n",
              "47303682       2  r studio date is getting converted to number w...\n",
              "46431243       0  pandas dataframe groupby how to get sum of mul...\n",
              "45306324       0  casting results from observableforkjoin to the...\n",
              "49479547       1  environment variable set in batch file cannot ..."
            ]
          },
          "execution_count": 30,
          "metadata": {},
          "output_type": "execute_result"
        }
      ],
      "source": [
        "data.head()"
      ]
    },
    {
      "cell_type": "code",
      "execution_count": 31,
      "metadata": {
        "colab": {
          "base_uri": "https://localhost:8080/"
        },
        "id": "y4t_6Warq8if",
        "outputId": "73334504-4c7f-4ed2-f2e2-7e5d08bce407"
      },
      "outputs": [
        {
          "name": "stdout",
          "output_type": "stream",
          "text": [
            "<class 'pandas.core.frame.DataFrame'>\n",
            "Int64Index: 48000 entries, 34862324 to 40415937\n",
            "Data columns (total 2 columns):\n",
            " #   Column  Non-Null Count  Dtype \n",
            "---  ------  --------------  ----- \n",
            " 0   target  48000 non-null  int64 \n",
            " 1   Text    48000 non-null  object\n",
            "dtypes: int64(1), object(1)\n",
            "memory usage: 1.1+ MB\n"
          ]
        }
      ],
      "source": [
        "data.info()"
      ]
    },
    {
      "cell_type": "markdown",
      "metadata": {
        "id": "l2WeX61vA7Pj"
      },
      "source": [
        "## Решение задачи классификации"
      ]
    },
    {
      "cell_type": "markdown",
      "metadata": {
        "id": "ftcr3k_BAJ30"
      },
      "source": [
        "## Разбиение данных на обучающую и тестовую выборки"
      ]
    },
    {
      "cell_type": "code",
      "execution_count": 32,
      "metadata": {
        "id": "U-5vFzELQR4e"
      },
      "outputs": [],
      "source": [
        "target_data = data['target']\n",
        "text_data = data.drop(['target'], axis=1)"
      ]
    },
    {
      "cell_type": "code",
      "execution_count": 33,
      "metadata": {
        "id": "twt2Z9vxADkL"
      },
      "outputs": [],
      "source": [
        "data_train, data_test, target_train, target_test = train_test_split(text_data, target_data, test_size=0.25, random_state=21)"
      ]
    },
    {
      "cell_type": "code",
      "execution_count": 34,
      "metadata": {
        "colab": {
          "base_uri": "https://localhost:8080/"
        },
        "id": "0cuHwbK0PKHO",
        "outputId": "4d7aadd4-1725-492d-8826-0153cf5904bd"
      },
      "outputs": [
        {
          "data": {
            "text/plain": [
              "((36000, 1), (12000, 1), (36000,), (12000,))"
            ]
          },
          "execution_count": 34,
          "metadata": {},
          "output_type": "execute_result"
        }
      ],
      "source": [
        "data_train.shape, data_test.shape, target_train.shape, target_test.shape"
      ]
    },
    {
      "cell_type": "code",
      "execution_count": 35,
      "metadata": {
        "colab": {
          "base_uri": "https://localhost:8080/",
          "height": 238
        },
        "id": "u9rJ3ALYRBR4",
        "outputId": "72fad716-dcc8-4d6c-cc29-b623e0a30151"
      },
      "outputs": [
        {
          "data": {
            "text/html": [
              "<div>\n",
              "<style scoped>\n",
              "    .dataframe tbody tr th:only-of-type {\n",
              "        vertical-align: middle;\n",
              "    }\n",
              "\n",
              "    .dataframe tbody tr th {\n",
              "        vertical-align: top;\n",
              "    }\n",
              "\n",
              "    .dataframe thead th {\n",
              "        text-align: right;\n",
              "    }\n",
              "</style>\n",
              "<table border=\"1\" class=\"dataframe\">\n",
              "  <thead>\n",
              "    <tr style=\"text-align: right;\">\n",
              "      <th></th>\n",
              "      <th>Text</th>\n",
              "    </tr>\n",
              "    <tr>\n",
              "      <th>Id</th>\n",
              "      <th></th>\n",
              "    </tr>\n",
              "  </thead>\n",
              "  <tbody>\n",
              "    <tr>\n",
              "      <th>39673099</th>\n",
              "      <td>android nougat popupwindow showasdropdown () g...</td>\n",
              "    </tr>\n",
              "    <tr>\n",
              "      <th>51273359</th>\n",
              "      <td>javascript regex that matches words starting w...</td>\n",
              "    </tr>\n",
              "    <tr>\n",
              "      <th>43162629</th>\n",
              "      <td>( android appweb app ) ( noob ) how do i get s...</td>\n",
              "    </tr>\n",
              "    <tr>\n",
              "      <th>41039669</th>\n",
              "      <td>is there typescript definition for dom nativee...</td>\n",
              "    </tr>\n",
              "    <tr>\n",
              "      <th>45101571</th>\n",
              "      <td>error when i run the application in websphere ...</td>\n",
              "    </tr>\n",
              "  </tbody>\n",
              "</table>\n",
              "</div>"
            ],
            "text/plain": [
              "                                                       Text\n",
              "Id                                                         \n",
              "39673099  android nougat popupwindow showasdropdown () g...\n",
              "51273359  javascript regex that matches words starting w...\n",
              "43162629  ( android appweb app ) ( noob ) how do i get s...\n",
              "41039669  is there typescript definition for dom nativee...\n",
              "45101571  error when i run the application in websphere ..."
            ]
          },
          "execution_count": 35,
          "metadata": {},
          "output_type": "execute_result"
        }
      ],
      "source": [
        "data_train.head()"
      ]
    },
    {
      "cell_type": "code",
      "execution_count": 36,
      "metadata": {
        "colab": {
          "base_uri": "https://localhost:8080/",
          "height": 238
        },
        "id": "Zs6okM7BRVja",
        "outputId": "95ed2374-95f9-4a09-9f8c-353e42f67d37"
      },
      "outputs": [
        {
          "data": {
            "text/html": [
              "<div>\n",
              "<style scoped>\n",
              "    .dataframe tbody tr th:only-of-type {\n",
              "        vertical-align: middle;\n",
              "    }\n",
              "\n",
              "    .dataframe tbody tr th {\n",
              "        vertical-align: top;\n",
              "    }\n",
              "\n",
              "    .dataframe thead th {\n",
              "        text-align: right;\n",
              "    }\n",
              "</style>\n",
              "<table border=\"1\" class=\"dataframe\">\n",
              "  <thead>\n",
              "    <tr style=\"text-align: right;\">\n",
              "      <th></th>\n",
              "      <th>Text</th>\n",
              "    </tr>\n",
              "    <tr>\n",
              "      <th>Id</th>\n",
              "      <th></th>\n",
              "    </tr>\n",
              "  </thead>\n",
              "  <tbody>\n",
              "    <tr>\n",
              "      <th>56842217</th>\n",
              "      <td>scrape youtube video views pi have a list of y...</td>\n",
              "    </tr>\n",
              "    <tr>\n",
              "      <th>42447283</th>\n",
              "      <td>how to create table according to screenshoot u...</td>\n",
              "    </tr>\n",
              "    <tr>\n",
              "      <th>43617348</th>\n",
              "      <td>trying to center top navigation bar pmaking ad...</td>\n",
              "    </tr>\n",
              "    <tr>\n",
              "      <th>37007939</th>\n",
              "      <td>command line error d o and rtc commandline opt...</td>\n",
              "    </tr>\n",
              "    <tr>\n",
              "      <th>55390991</th>\n",
              "      <td>how to create a bit integer from eight () bit ...</td>\n",
              "    </tr>\n",
              "  </tbody>\n",
              "</table>\n",
              "</div>"
            ],
            "text/plain": [
              "                                                       Text\n",
              "Id                                                         \n",
              "56842217  scrape youtube video views pi have a list of y...\n",
              "42447283  how to create table according to screenshoot u...\n",
              "43617348  trying to center top navigation bar pmaking ad...\n",
              "37007939  command line error d o and rtc commandline opt...\n",
              "55390991  how to create a bit integer from eight () bit ..."
            ]
          },
          "execution_count": 36,
          "metadata": {},
          "output_type": "execute_result"
        }
      ],
      "source": [
        "data_test.head()"
      ]
    },
    {
      "cell_type": "code",
      "execution_count": 37,
      "metadata": {
        "id": "tvVpJYB0bBEB"
      },
      "outputs": [],
      "source": [
        "data_train = data_train['Text']\n",
        "data_test = data_test['Text']\n",
        "\n",
        "target_train = target_train.values\n",
        "target_test = target_test.values"
      ]
    },
    {
      "cell_type": "markdown",
      "metadata": {
        "id": "OEwnxxBEV8QP"
      },
      "source": [
        "## Классические методы векторизации данных"
      ]
    },
    {
      "cell_type": "markdown",
      "metadata": {
        "id": "ZyjpD4B3WD7X"
      },
      "source": [
        "- Bag-of-words(BOW)"
      ]
    },
    {
      "cell_type": "code",
      "execution_count": 38,
      "metadata": {
        "id": "F481Pb-3ReeV"
      },
      "outputs": [],
      "source": [
        "def BOW(train, test):\n",
        "    bow_vectorizer = CountVectorizer()\n",
        "    train_vec = bow_vectorizer.fit_transform(train)\n",
        "    test_vec = bow_vectorizer.transform(test)\n",
        "    return train_vec, test_vec\n"
      ]
    },
    {
      "cell_type": "markdown",
      "metadata": {
        "id": "b_AkZF_lWEo2"
      },
      "source": [
        "- Term Frequency-Inverse Document Frequency(tf-idf)"
      ]
    },
    {
      "cell_type": "code",
      "execution_count": 39,
      "metadata": {
        "id": "oZEeTeZiSERS"
      },
      "outputs": [],
      "source": [
        "def tf_idf(train, test):\n",
        "    tfidf_vectorizer = TfidfVectorizer()\n",
        "    train_vec = tfidf_vectorizer.fit_transform(train)\n",
        "    test_vec = tfidf_vectorizer.transform(test)\n",
        "    return train_vec, test_vec"
      ]
    },
    {
      "cell_type": "markdown",
      "metadata": {
        "id": "uQxjryE7x-3p"
      },
      "source": [
        "## Классические методы машинного обучения"
      ]
    },
    {
      "cell_type": "markdown",
      "metadata": {
        "id": "Stl0IFHGz8iZ"
      },
      "source": [
        "- Линейная регрессия"
      ]
    },
    {
      "cell_type": "code",
      "execution_count": 40,
      "metadata": {
        "colab": {
          "base_uri": "https://localhost:8080/"
        },
        "id": "dYyAVfYwx-BG",
        "outputId": "cd39f892-30da-4fe7-ef4f-900ef5506f59"
      },
      "outputs": [
        {
          "name": "stdout",
          "output_type": "stream",
          "text": [
            "0.8788127252095609\n",
            "[[0.82506992 0.16145436 0.01347572]\n",
            " [0.12812268 0.8320554  0.03982191]\n",
            " [0.00770378 0.0111829  0.98111332]]\n"
          ]
        }
      ],
      "source": [
        "vec_data_train, vec_data_test = BOW(data_train, data_test)\n",
        "lrc = LogisticRegression(max_iter=700)\n",
        "lrc.fit(vec_data_train, target_train)\n",
        "vec_data_test_pr = lrc.predict(vec_data_test)\n",
        "print(f1_score(target_test, vec_data_test_pr, average='macro'))\n",
        "print(confusion_matrix(target_test, vec_data_test_pr, normalize='true'))\n"
      ]
    },
    {
      "cell_type": "code",
      "execution_count": 41,
      "metadata": {
        "colab": {
          "base_uri": "https://localhost:8080/"
        },
        "id": "UAJ20lMfDs3Y",
        "outputId": "235917e3-96e3-4746-ac18-e6f441ef865d"
      },
      "outputs": [
        {
          "name": "stdout",
          "output_type": "stream",
          "text": [
            "0.87410299255499\n",
            "[[0.86066616 0.12560386 0.01372998]\n",
            " [0.13109077 0.7947069  0.07420233]\n",
            " [0.01963221 0.00944334 0.97092445]]\n"
          ]
        }
      ],
      "source": [
        "vec_data_train, vec_data_test = tf_idf(data_train, data_test)\n",
        "lrc = LogisticRegression(max_iter=700)\n",
        "lrc.fit(vec_data_train, target_train)\n",
        "vec_data_test_pr = lrc.predict(vec_data_test)\n",
        "print(f1_score(target_test, vec_data_test_pr, average='macro'))\n",
        "print(confusion_matrix(target_test, vec_data_test_pr, normalize='true'))"
      ]
    },
    {
      "cell_type": "markdown",
      "metadata": {
        "id": "sWr1D8bh0AqA"
      },
      "source": [
        "- Случайный лес"
      ]
    },
    {
      "cell_type": "code",
      "execution_count": 42,
      "metadata": {
        "colab": {
          "base_uri": "https://localhost:8080/"
        },
        "id": "SclHVkIR0C4I",
        "outputId": "26ade0ae-97ec-4b1a-e3d6-65c0a041dfdf"
      },
      "outputs": [
        {
          "name": "stdout",
          "output_type": "stream",
          "text": [
            "0.8202594803474025\n",
            "[[0.72260361 0.25069921 0.02669718]\n",
            " [0.11872372 0.7712095  0.11006678]\n",
            " [0.01764414 0.00869781 0.97365805]]\n"
          ]
        }
      ],
      "source": [
        "vec_data_train, vec_data_test = BOW(data_train, data_test)\n",
        "rfc = RandomForestClassifier()\n",
        "rfc.fit(vec_data_train, target_train)\n",
        "vec_data_test_pr = rfc.predict(vec_data_test)\n",
        "print(f1_score(target_test, vec_data_test_pr, average='macro'))\n",
        "print(confusion_matrix(target_test, vec_data_test_pr, normalize='true'))"
      ]
    },
    {
      "cell_type": "code",
      "execution_count": 43,
      "metadata": {
        "colab": {
          "base_uri": "https://localhost:8080/"
        },
        "id": "KWIkn7OLDtSB",
        "outputId": "cc3f7e88-2b8d-43d2-a197-f002a097eef5"
      },
      "outputs": [
        {
          "name": "stdout",
          "output_type": "stream",
          "text": [
            "0.8269119968897741\n",
            "[[0.75565726 0.21917112 0.02517162]\n",
            " [0.13554291 0.7712095  0.09324759]\n",
            " [0.0221173  0.01963221 0.9582505 ]]\n"
          ]
        }
      ],
      "source": [
        "vec_data_train, vec_data_test = tf_idf(data_train, data_test)\n",
        "rfc = RandomForestClassifier()\n",
        "rfc.fit(vec_data_train, target_train)\n",
        "vec_data_test_pr = rfc.predict(vec_data_test)\n",
        "print(f1_score(target_test, vec_data_test_pr, average='macro'))\n",
        "print(confusion_matrix(target_test, vec_data_test_pr, normalize='true'))"
      ]
    },
    {
      "cell_type": "markdown",
      "metadata": {
        "id": "7XnyC3o4XIcB"
      },
      "source": [
        "Исходя из полученных результатов, можно сделать вывод, что наилучший классификатор - линейная регрессия (f1_score = 0.87)."
      ]
    },
    {
      "cell_type": "markdown",
      "metadata": {
        "id": "Gx_zuxG7eFkZ"
      },
      "source": [
        "## Предобученные эмбединги"
      ]
    },
    {
      "cell_type": "markdown",
      "metadata": {
        "id": "rJpAWmzyeSqg"
      },
      "source": [
        "- w2v - используем модель от Google, обученную на новостных данных."
      ]
    },
    {
      "cell_type": "code",
      "execution_count": 44,
      "metadata": {
        "id": "dogg7IHHColv"
      },
      "outputs": [],
      "source": [
        "w2v_model = KeyedVectors.load_word2vec_format(os.path.join(df, 'GoogleNews-vectors-negative300.bin'), binary=True)"
      ]
    },
    {
      "cell_type": "code",
      "execution_count": 45,
      "metadata": {
        "id": "Xt6YevnFeYzX"
      },
      "outputs": [],
      "source": [
        "def w2v_vectorizer(train, test):\n",
        "    return ([np.mean([w2v_model[word] for word in text.split() if word in w2v_model.vocab], axis=0) for text in train],\n",
        "            [np.mean([w2v_model[word] for word in text.split() if word in w2v_model.vocab], axis=0) for text in test])"
      ]
    },
    {
      "cell_type": "markdown",
      "metadata": {
        "id": "WARfkphD2K1U"
      },
      "source": [
        "Применим векторизацию к классическим классификаторам"
      ]
    },
    {
      "cell_type": "code",
      "execution_count": 46,
      "metadata": {
        "colab": {
          "base_uri": "https://localhost:8080/"
        },
        "id": "h3elixWheY1z",
        "outputId": "f0687fca-e0db-4ab5-815f-0cde6ff390fa"
      },
      "outputs": [
        {
          "name": "stdout",
          "output_type": "stream",
          "text": [
            "0.7060800391279324\n",
            "[[0.73455378 0.17620137 0.08924485]\n",
            " [0.20900322 0.58966114 0.20133564]\n",
            " [0.09294235 0.10437376 0.8026839 ]]\n"
          ]
        }
      ],
      "source": [
        "vec_data_train, vec_data_test = w2v_vectorizer(data_train, data_test)\n",
        "lrc = LogisticRegression(max_iter=700)\n",
        "lrc.fit(vec_data_train, target_train)\n",
        "vec_data_test_pr = lrc.predict(vec_data_test)\n",
        "print(f1_score(target_test, vec_data_test_pr, average='macro'))\n",
        "print(confusion_matrix(target_test, vec_data_test_pr, normalize='true'))"
      ]
    },
    {
      "cell_type": "code",
      "execution_count": 47,
      "metadata": {
        "colab": {
          "base_uri": "https://localhost:8080/"
        },
        "id": "0z0ikWXxeY4p",
        "outputId": "98e6f080-8dc6-4d77-9821-7a7e0fe39834"
      },
      "outputs": [
        {
          "name": "stdout",
          "output_type": "stream",
          "text": [
            "0.6238944447823749\n",
            "[[0.67149758 0.20315281 0.12534961]\n",
            " [0.22161761 0.5243631  0.25401929]\n",
            " [0.13295229 0.18563618 0.68141153]]\n"
          ]
        }
      ],
      "source": [
        "vec_data_train, vec_data_test = w2v_vectorizer(data_train, data_test)\n",
        "rfc = RandomForestClassifier()\n",
        "rfc.fit(vec_data_train, target_train)\n",
        "vec_data_test_pr = rfc.predict(vec_data_test)\n",
        "print(f1_score(target_test, vec_data_test_pr, average='macro'))\n",
        "print(confusion_matrix(target_test, vec_data_test_pr, normalize='true'))"
      ]
    },
    {
      "cell_type": "markdown",
      "metadata": {
        "id": "zAS9m691eZVS"
      },
      "source": [
        "- GloVe - используем модель, обученную на данных из Twitter."
      ]
    },
    {
      "cell_type": "code",
      "execution_count": 48,
      "metadata": {
        "colab": {
          "base_uri": "https://localhost:8080/"
        },
        "id": "MkPJi7SuedcE",
        "outputId": "990641a2-95be-4418-f80b-1e7b1138f97a"
      },
      "outputs": [
        {
          "name": "stdout",
          "output_type": "stream",
          "text": [
            "[==================================================] 100.0% 104.8/104.8MB downloaded\n"
          ]
        }
      ],
      "source": [
        "glove_model = api.load('glove-twitter-25')"
      ]
    },
    {
      "cell_type": "code",
      "execution_count": 49,
      "metadata": {
        "id": "AbOokWydDfIo"
      },
      "outputs": [],
      "source": [
        "def glove_vectorizer(train, test):\n",
        "    return ([np.sum([glove_model[word] for word in text.split() if word in glove_model.vocab], axis=0) for text in train],\n",
        "            [np.sum([glove_model[word] for word in text.split() if word in glove_model.vocab], axis=0) for text in test])"
      ]
    },
    {
      "cell_type": "code",
      "execution_count": 50,
      "metadata": {
        "colab": {
          "base_uri": "https://localhost:8080/"
        },
        "id": "oJkVWC55-Ck9",
        "outputId": "b02440fc-fff5-487c-f75b-64ec99abea1b"
      },
      "outputs": [
        {
          "name": "stdout",
          "output_type": "stream",
          "text": [
            "0.5112754939931045\n",
            "[[0.51665395 0.28527841 0.19806763]\n",
            " [0.23992085 0.5063072  0.25377195]\n",
            " [0.18489066 0.30641153 0.50869781]]\n"
          ]
        }
      ],
      "source": [
        "vec_data_train, vec_data_test = glove_vectorizer(data_train, data_test)\n",
        "lrc = LogisticRegression(max_iter=700)\n",
        "lrc.fit(vec_data_train, target_train)\n",
        "vec_data_test_pr = lrc.predict(vec_data_test)\n",
        "print(f1_score(target_test, vec_data_test_pr, average='macro'))\n",
        "print(confusion_matrix(target_test, vec_data_test_pr, normalize='true'))"
      ]
    },
    {
      "cell_type": "markdown",
      "metadata": {
        "id": "GAm_3sr0G7pa"
      },
      "source": [
        "На предобученных эмбеддингах наилучший результат (f1_score = 0.7) получился при использовании w2v."
      ]
    },
    {
      "cell_type": "markdown",
      "metadata": {
        "id": "BEOdnRSxHW6l"
      },
      "source": [
        "## Нейронная сеть"
      ]
    },
    {
      "cell_type": "markdown",
      "metadata": {
        "id": "8G8lWf_FIsbN"
      },
      "source": [
        "### Предварительная обработка данных"
      ]
    },
    {
      "cell_type": "code",
      "execution_count": 51,
      "metadata": {
        "id": "xu-dNI34KwCG"
      },
      "outputs": [],
      "source": [
        "text_columns = ['Title', 'Body']\n",
        "categorical_columns = ['Tags']\n",
        "target_column = 'target'"
      ]
    },
    {
      "cell_type": "markdown",
      "metadata": {
        "id": "Fw4p9AE9Iw2w"
      },
      "source": [
        "Приведем весь текст в нижний регистр + токенизируем (будем хранить токенизированные данные в виде строки токенов, разделенных пробелами, по соображениям производительности):"
      ]
    },
    {
      "cell_type": "code",
      "execution_count": 52,
      "metadata": {
        "id": "SDSveuqvKxMJ"
      },
      "outputs": [],
      "source": [
        "nn_data = raw_data\n",
        "nn_data['Body'] = nn_data['Body'].apply(str).apply(str.lower).apply(word_tokenize)\n",
        "nn_data['Title'] = nn_data['Title'].apply(str).apply(str.lower).apply(word_tokenize)"
      ]
    },
    {
      "cell_type": "code",
      "execution_count": 53,
      "metadata": {
        "id": "25wvRPX1KxOt"
      },
      "outputs": [],
      "source": [
        "nn_data['target'] = nn_data['target'].apply(lambda target: np.eye(3, dtype=np.int32)[target])"
      ]
    },
    {
      "cell_type": "markdown",
      "metadata": {
        "id": "oDGAhFV4uNK7"
      },
      "source": [
        "Посчитаем количество уникальных токенов:"
      ]
    },
    {
      "cell_type": "code",
      "execution_count": 54,
      "metadata": {
        "id": "PhYqlX9BKxRN"
      },
      "outputs": [],
      "source": [
        "token_counts = Counter()\n",
        "for col in text_columns:\n",
        "    for text in nn_data[col].values:\n",
        "        token_counts.update(text.split(' '))"
      ]
    },
    {
      "cell_type": "code",
      "execution_count": 55,
      "metadata": {
        "colab": {
          "base_uri": "https://localhost:8080/"
        },
        "id": "IvE-7ihRrddK",
        "outputId": "b9c0edc9-7d8f-49f5-d3be-d6aefa0ee8dc"
      },
      "outputs": [
        {
          "name": "stdout",
          "output_type": "stream",
          "text": [
            "Всего уникальных токенов : 230236\n",
            "('.', 543501)\n",
            "('>', 375572)\n",
            "('p', 225299)\n",
            "('<', 215383)\n",
            "(',', 202492)\n",
            "...\n",
            "('3bujt', 1)\n",
            "('9i4jf', 1)\n",
            "('__nscfarray', 1)\n"
          ]
        }
      ],
      "source": [
        "print('Всего уникальных токенов :', len(token_counts))\n",
        "print('\\n'.join(map(str, token_counts.most_common(n=5))))\n",
        "print('...')\n",
        "print('\\n'.join(map(str, token_counts.most_common()[-3:])))"
      ]
    },
    {
      "cell_type": "markdown",
      "metadata": {
        "id": "JM2ZNna2uSCa"
      },
      "source": [
        "Посмотрим, сколько слов у каждого счетчика, построив гистограмму:"
      ]
    },
    {
      "cell_type": "code",
      "execution_count": 56,
      "metadata": {
        "colab": {
          "base_uri": "https://localhost:8080/",
          "height": 279
        },
        "id": "WT-vhcTpre5c",
        "outputId": "dcefbcc3-4432-4080-9f6f-a3d0a3e79113"
      },
      "outputs": [
        {
          "data": {
            "image/png": "[encoded data removed]",
            "text/plain": [
              "<Figure size 432x288 with 1 Axes>"
            ]
          },
          "metadata": {
            "needs_background": "light"
          },
          "output_type": "display_data"
        }
      ],
      "source": [
        "plt.hist(list(token_counts.values()), range=[0, 10**4], bins=50, log=True)\n",
        "plt.xlabel(\"Word counts\");"
      ]
    },
    {
      "cell_type": "markdown",
      "metadata": {
        "id": "djUcC_SDu7ir"
      },
      "source": [
        "Отфильтруем токены, которые встречаются не менее 10 раз:"
      ]
    },
    {
      "cell_type": "code",
      "execution_count": 57,
      "metadata": {
        "id": "jsXHMgWGuuUv"
      },
      "outputs": [],
      "source": [
        "min_count = 10\n",
        "tokens = [token for token, count in token_counts.items() if count >= min_count]"
      ]
    },
    {
      "cell_type": "markdown",
      "metadata": {
        "id": "qLQye7YRvy--"
      },
      "source": [
        "Добавим специальные токены для неизвестных и пустых слов:"
      ]
    },
    {
      "cell_type": "code",
      "execution_count": 58,
      "metadata": {
        "colab": {
          "base_uri": "https://localhost:8080/"
        },
        "id": "4smYk9JKvY43",
        "outputId": "e30737ce-9aa8-4223-87f8-2482c29a6118"
      },
      "outputs": [
        {
          "name": "stdout",
          "output_type": "stream",
          "text": [
            "Размер словарного запаса: 24477\n"
          ]
        }
      ],
      "source": [
        "UNK, PAD = \"UNK\", \"PAD\"\n",
        "tokens = [UNK, PAD] + sorted(tokens)\n",
        "print(\"Размер словарного запаса:\", len(tokens))"
      ]
    },
    {
      "cell_type": "markdown",
      "metadata": {
        "id": "APi4ys5zwNyY"
      },
      "source": [
        "Создадим обратный индекс токена:"
      ]
    },
    {
      "cell_type": "code",
      "execution_count": 59,
      "metadata": {
        "id": "Na2Pa1gvv6jx"
      },
      "outputs": [],
      "source": [
        "token_to_id = {token: i for i, token in enumerate(tokens)}"
      ]
    },
    {
      "cell_type": "markdown",
      "metadata": {
        "id": "016Gw1s4wimw"
      },
      "source": [
        "Используем созданный словарь для отображения текстовых строк в матрицы, усваиваемые нейронной сетью:"
      ]
    },
    {
      "cell_type": "code",
      "execution_count": 60,
      "metadata": {
        "id": "cEEc_iXxwbvo"
      },
      "outputs": [],
      "source": [
        "UNK_IX, PAD_IX = map(token_to_id.get, [UNK, PAD])\n",
        "\n",
        "def as_matrix(sequences, max_len=None):\n",
        "    \"\"\"Convert a list of tokens into a matrix with padding\n",
        "\n",
        "    Args:\n",
        "        sequences (list): list of tokens\n",
        "        max_len (int, optional): maximum length. Defaults to None.\n",
        "    \"\"\"\n",
        "    if isinstance(sequences[0], str):\n",
        "        sequences = list(map(str.split, sequences))\n",
        "        \n",
        "    max_len = min(max(map(len, sequences)), max_len or float('inf'))\n",
        "    \n",
        "    matrix = np.full((len(sequences), max_len), np.int32(PAD_IX))\n",
        "    for i, seq in enumerate(sequences):\n",
        "        row_ix = [token_to_id.get(word, UNK_IX) for word in seq[:max_len]]\n",
        "        matrix[i, :len(row_ix)] = row_ix\n",
        "    \n",
        "    return matrix"
      ]
    },
    {
      "cell_type": "markdown",
      "metadata": {
        "id": "joTIAPN-x8ur"
      },
      "source": [
        "Закодируем имеющиеся у нас категориальные данные:"
      ]
    },
    {
      "cell_type": "code",
      "execution_count": 61,
      "metadata": {
        "id": "g4Z0hxHQyG0r"
      },
      "outputs": [],
      "source": [
        "categorical_vectorizer = DictVectorizer(dtype=np.float32, sparse=False)\n",
        "categorical_vectorizer.fit(nn_data[categorical_columns].apply(dict, axis=1))\n",
        "\n",
        "top_types, top_counts = zip(*Counter(nn_data['Tags']).most_common(1000))\n",
        "recognized_companies = set(top_types)"
      ]
    },
    {
      "cell_type": "markdown",
      "metadata": {
        "id": "Cj87mQdlw1JP"
      },
      "source": [
        "## The deep learning part"
      ]
    },
    {
      "cell_type": "markdown",
      "metadata": {
        "id": "BZXHKA3wxfDc"
      },
      "source": [
        "Разобьем данные на обучающую и валидационную выборку:"
      ]
    },
    {
      "cell_type": "code",
      "execution_count": 62,
      "metadata": {
        "colab": {
          "base_uri": "https://localhost:8080/"
        },
        "id": "nNk1XOHowvqa",
        "outputId": "36184fde-c62f-4f8d-9e15-c167439c8b4a"
      },
      "outputs": [
        {
          "name": "stdout",
          "output_type": "stream",
          "text": [
            "Train size =  36000\n",
            "Validation size =  12000\n"
          ]
        }
      ],
      "source": [
        "nn_data_train, nn_data_val = train_test_split(nn_data, test_size=0.25, random_state=21)\n",
        "nn_data_train.index = range(len(nn_data_train))\n",
        "nn_data_val.index = range(len(nn_data_val))\n",
        "\n",
        "print('Train size = ', len(nn_data_train))\n",
        "print('Validation size = ', len(nn_data_val))"
      ]
    },
    {
      "cell_type": "code",
      "execution_count": 63,
      "metadata": {
        "id": "K-VkHZT00bP_"
      },
      "outputs": [],
      "source": [
        "def convert_target_array(arr):\n",
        "  result = np.zeros((len(arr), 3), dtype=np.int32)\n",
        "  for i in range(len(arr)):\n",
        "    for k in range(len(arr[i])):\n",
        "      result[i, k] = arr[i][k]\n",
        "  return result"
      ]
    },
    {
      "cell_type": "code",
      "execution_count": 64,
      "metadata": {
        "id": "imbhDy9-xqZb"
      },
      "outputs": [],
      "source": [
        "def make_batch(data, max_len=None, word_dropout=0):\n",
        "    \"\"\"Creates a keras-friendly dict from the batch data.\n",
        "\n",
        "    Args:\n",
        "        data (pd.DataFrame): data set\n",
        "        max_len (int, optional): maximum length. Defaults to None.\n",
        "        word_dropout (int, optional): replaces token index with UNK_IX with this probability. Defaults to 0.\n",
        "\n",
        "    Returns:\n",
        "        dict: {'title' : int64[batch, title_max_len]}\n",
        "    \"\"\"\n",
        "    batch = {}\n",
        "    batch[\"Title\"] = as_matrix(data[\"Title\"].values, max_len)\n",
        "    batch[\"Body\"] = as_matrix(data[\"Body\"].values, max_len)\n",
        "    batch[\"target\"] = convert_target_array(data[\"target\"].values)\n",
        "    batch['Categorical'] = categorical_vectorizer.transform(data[categorical_columns].apply(dict, axis=1))\n",
        "    \n",
        "    if word_dropout != 0:\n",
        "        batch[\"Body\"] = apply_word_dropout(batch[\"Body\"], 1. - word_dropout)\n",
        "\n",
        "    if target_column in ['Title', 'Body', 'Categorical']:\n",
        "        batch[target_column] = data[target_column].values\n",
        "    \n",
        "    return batch\n",
        "\n",
        "def apply_word_dropout(matrix, keep_prop, replace_with=UNK_IX, pad_ix=PAD_IX,):\n",
        "    dropout_mask = np.random.choice(2, np.shape(matrix), p=[keep_prop, 1 - keep_prop])\n",
        "    dropout_mask &= matrix != pad_ix\n",
        "    return np.choose(dropout_mask, [matrix, np.full_like(matrix, replace_with)])"
      ]
    },
    {
      "cell_type": "code",
      "execution_count": 65,
      "metadata": {
        "colab": {
          "base_uri": "https://localhost:8080/"
        },
        "id": "84G_ZrpQ1QzO",
        "outputId": "1fb8920f-1b96-4a71-8e1b-f30135cab2c1"
      },
      "outputs": [
        {
          "data": {
            "text/plain": [
              "{'Body': array([[ 3378, 16759,  3569, 12276, 11902, 21908,  7071,  1414, 16759,\n",
              "          3569],\n",
              "        [ 3378, 16759,  3569, 12276,  4787, 22437, 22100, 23905,  4180,\n",
              "         18633],\n",
              "        [ 3378, 16759,  3569, 16328, 20420, 10573, 16300,  3187, 12276,\n",
              "          4787]], dtype=int32),\n",
              " 'Categorical': array([[0., 0., 0., ..., 0., 0., 0.],\n",
              "        [0., 0., 0., ..., 0., 0., 0.],\n",
              "        [0., 0., 0., ..., 0., 0., 0.]], dtype=float32),\n",
              " 'Title': array([[ 4851, 16017, 17471,     0,   854, 11653, 15980, 23861,     1,\n",
              "             1],\n",
              "        [13282, 18633, 21855, 14636, 23843, 20820, 23788,  4180,  9175,\n",
              "          1187],\n",
              "        [  639,  4851,  4986,  1430, 23577,  4986,   903,   639, 15957,\n",
              "           903]], dtype=int32),\n",
              " 'target': array([[1, 0, 0],\n",
              "        [0, 1, 0],\n",
              "        [0, 1, 0]], dtype=int32)}"
            ]
          },
          "execution_count": 65,
          "metadata": {},
          "output_type": "execute_result"
        }
      ],
      "source": [
        "{' ': convert_target_array(nn_data[:3]['target'].values)}\n",
        "make_batch(nn_data_train[:3], max_len=10)"
      ]
    },
    {
      "cell_type": "code",
      "execution_count": 66,
      "metadata": {
        "id": "50WFMlJL2Klh"
      },
      "outputs": [],
      "source": [
        "def build_model(n_tokens=len(tokens), n_cat_features=len(categorical_vectorizer.vocabulary_), hid_size=64):\n",
        "    \n",
        "    l_title = L.Input(shape=[None], name='Title')\n",
        "    l_descr = L.Input(shape=[None], name='Body')\n",
        "    l_categ = L.Input(shape=[n_cat_features], name='Categorical')\n",
        "      \n",
        "    emb = L.Embedding(n_tokens, hid_size)\n",
        "\n",
        "    l_title_emb = emb(l_title)\n",
        "    l_title_emb = L.Embedding(n_tokens, hid_size)(l_title)\n",
        "    l_title_emb = L.GlobalMaxPool1D()(l_title_emb)\n",
        "\n",
        "    l_descr_emb = emb(l_descr)\n",
        "    l_descr_emb = L.Dense(2*hid_size)(l_descr_emb)\n",
        "    l_descr_emb = L.GlobalMaxPool1D()(l_descr_emb)\n",
        "    \n",
        "    l_cat_emb = L.Dense(2*hid_size)(l_categ) #cat feature\n",
        "\n",
        "    l_combined = L.Concatenate()([l_cat_emb, l_descr_emb, l_title_emb])\n",
        "    l_combined = expand_dims(l_combined, 1)\n",
        "    l_combined = L.Conv1D(filters=hid_size, kernel_size=3, activation='relu', padding='same')(l_combined)\n",
        "    l_combined = L.GlobalMaxPool1D()(l_combined)\n",
        "    l_combined = L.Dense(2*hid_size, activation='relu')(l_combined)\n",
        "\n",
        "    output_layer = L.Dense(3)(l_combined)\n",
        "    output_layer = L.Softmax()(output_layer)\n",
        "    \n",
        "    model = keras.models.Model(inputs=[l_title, l_descr, l_categ], outputs=[output_layer])\n",
        "    model.compile('adam', 'categorical_crossentropy', metrics=['categorical_accuracy'])\n",
        "    return model"
      ]
    },
    {
      "cell_type": "code",
      "execution_count": 67,
      "metadata": {
        "colab": {
          "base_uri": "https://localhost:8080/"
        },
        "id": "J4nfylq_-N40",
        "outputId": "d168e8af-821e-46b7-b340-331b6c683d54"
      },
      "outputs": [
        {
          "name": "stdout",
          "output_type": "stream",
          "text": [
            "Model: \"model\"\n",
            "__________________________________________________________________________________________________\n",
            " Layer (type)                   Output Shape         Param #     Connected to                     \n",
            "==================================================================================================\n",
            " Body (InputLayer)              [(None, None)]       0           []                               \n",
            "                                                                                                  \n",
            " embedding (Embedding)          (None, None, 64)     1566528     ['Body[0][0]']                   \n",
            "                                                                                                  \n",
            " Title (InputLayer)             [(None, None)]       0           []                               \n",
            "                                                                                                  \n",
            " Categorical (InputLayer)       [(None, 27249)]      0           []                               \n",
            "                                                                                                  \n",
            " dense (Dense)                  (None, None, 128)    8320        ['embedding[1][0]']              \n",
            "                                                                                                  \n",
            " embedding_1 (Embedding)        (None, None, 64)     1566528     ['Title[0][0]']                  \n",
            "                                                                                                  \n",
            " dense_1 (Dense)                (None, 128)          3488000     ['Categorical[0][0]']            \n",
            "                                                                                                  \n",
            " global_max_pooling1d_1 (Global  (None, 128)         0           ['dense[0][0]']                  \n",
            " MaxPooling1D)                                                                                    \n",
            "                                                                                                  \n",
            " global_max_pooling1d (GlobalMa  (None, 64)          0           ['embedding_1[0][0]']            \n",
            " xPooling1D)                                                                                      \n",
            "                                                                                                  \n",
            " concatenate (Concatenate)      (None, 320)          0           ['dense_1[0][0]',                \n",
            "                                                                  'global_max_pooling1d_1[0][0]', \n",
            "                                                                  'global_max_pooling1d[0][0]']   \n",
            "                                                                                                  \n",
            " tf.expand_dims (TFOpLambda)    (None, 1, 320)       0           ['concatenate[0][0]']            \n",
            "                                                                                                  \n",
            " conv1d (Conv1D)                (None, 1, 64)        61504       ['tf.expand_dims[0][0]']         \n",
            "                                                                                                  \n",
            " global_max_pooling1d_2 (Global  (None, 64)          0           ['conv1d[0][0]']                 \n",
            " MaxPooling1D)                                                                                    \n",
            "                                                                                                  \n",
            " dense_2 (Dense)                (None, 128)          8320        ['global_max_pooling1d_2[0][0]'] \n",
            "                                                                                                  \n",
            " dense_3 (Dense)                (None, 3)            387         ['dense_2[0][0]']                \n",
            "                                                                                                  \n",
            " softmax (Softmax)              (None, 3)            0           ['dense_3[0][0]']                \n",
            "                                                                                                  \n",
            "==================================================================================================\n",
            "Total params: 6,699,587\n",
            "Trainable params: 6,699,587\n",
            "Non-trainable params: 0\n",
            "__________________________________________________________________________________________________\n"
          ]
        },
        {
          "name": "stderr",
          "output_type": "stream",
          "text": [
            "/usr/local/lib/python3.7/dist-packages/keras/engine/functional.py:559: UserWarning:\n",
            "\n",
            "Input dict contained keys ['target'] which did not match any model input. They will be ignored by the model.\n",
            "\n"
          ]
        }
      ],
      "source": [
        "model = build_model()\n",
        "model.summary()\n",
        "\n",
        "dummy_pred = model.predict(make_batch(nn_data_train[:100]))\n",
        "dummy_loss = model.train_on_batch(make_batch(nn_data_train[:100]),\n",
        "                                  convert_target_array(nn_data_train['target'][:100]))[0]"
      ]
    },
    {
      "cell_type": "code",
      "execution_count": 68,
      "metadata": {
        "id": "TDEYyRrA-Zk5"
      },
      "outputs": [],
      "source": [
        "def iterate_minibatches(data, batch_size=256, shuffle=True, cycle=False, **kwargs):\n",
        "    \"\"\"Iterates minibatches of data in random order\n",
        "\n",
        "    Args:\n",
        "        data (pd.DataFrame): data set\n",
        "        batch_size (int, optional): batch size. Defaults to 256.\n",
        "        shuffle (bool, optional): data shuffle. Defaults to True.\n",
        "        cycle (bool, optional): cycle. Defaults to False.\n",
        "\n",
        "    Yields:\n",
        "        batch, target\n",
        "    \"\"\"\n",
        "    while True:\n",
        "        indices = np.arange(len(data))\n",
        "        if shuffle:\n",
        "            indices = np.random.permutation(indices)\n",
        "\n",
        "        for start in range(0, len(indices), batch_size):\n",
        "            batch = make_batch(data.iloc[indices[start : start + batch_size]], **kwargs)\n",
        "            target = batch.pop(target_column)\n",
        "            yield batch, target\n",
        "        \n",
        "        if not cycle: break"
      ]
    },
    {
      "cell_type": "code",
      "execution_count": 69,
      "metadata": {
        "colab": {
          "base_uri": "https://localhost:8080/"
        },
        "id": "9r1K3pWYZAOf",
        "outputId": "cb090d9f-ce5a-46f8-f695-84daafd22f51"
      },
      "outputs": [
        {
          "name": "stderr",
          "output_type": "stream",
          "text": [
            "/usr/local/lib/python3.7/dist-packages/ipykernel_launcher.py:11: UserWarning:\n",
            "\n",
            "`Model.fit_generator` is deprecated and will be removed in a future version. Please use `Model.fit`, which supports generators.\n",
            "\n"
          ]
        },
        {
          "name": "stdout",
          "output_type": "stream",
          "text": [
            "Epoch 1/5\n",
            "100/100 [==============================] - 21s 197ms/step - loss: 0.5868 - categorical_accuracy: 0.7995 - val_loss: 0.2119 - val_categorical_accuracy: 0.9144\n",
            "Epoch 2/5\n",
            "100/100 [==============================] - 22s 223ms/step - loss: 0.1409 - categorical_accuracy: 0.9482 - val_loss: 0.2139 - val_categorical_accuracy: 0.9202\n",
            "Epoch 3/5\n",
            "100/100 [==============================] - 21s 210ms/step - loss: 0.0835 - categorical_accuracy: 0.9730 - val_loss: 0.2025 - val_categorical_accuracy: 0.9235\n",
            "Epoch 4/5\n",
            "100/100 [==============================] - 20s 196ms/step - loss: 0.0406 - categorical_accuracy: 0.9852 - val_loss: 0.2027 - val_categorical_accuracy: 0.9226\n",
            "Epoch 5/5\n",
            "100/100 [==============================] - 21s 213ms/step - loss: 0.0235 - categorical_accuracy: 0.9924 - val_loss: 0.2266 - val_categorical_accuracy: 0.9215\n"
          ]
        },
        {
          "data": {
            "text/plain": [
              "<keras.callbacks.History at 0x7fc6fb3a7450>"
            ]
          },
          "execution_count": 69,
          "metadata": {},
          "output_type": "execute_result"
        }
      ],
      "source": [
        "batch_size = 256\n",
        "epochs = 5 \n",
        "steps_per_epoch = 100 \n",
        "\n",
        "model = build_model()\n",
        "\n",
        "model.fit_generator(iterate_minibatches(nn_data_train, batch_size, cycle=True, word_dropout=0.05), \n",
        "                    epochs=epochs, steps_per_epoch=steps_per_epoch,\n",
        "                    \n",
        "                    validation_data=iterate_minibatches(nn_data_val, batch_size, cycle=True),\n",
        "                    validation_steps=nn_data_val.shape[0] // batch_size\n",
        "                   )"
      ]
    },
    {
      "cell_type": "markdown",
      "metadata": {
        "id": "OnzQimrNHkJG"
      },
      "source": [
        "## Вывод"
      ]
    },
    {
      "cell_type": "markdown",
      "metadata": {
        "id": "ATZarkOqHkkz"
      },
      "source": [
        "После предобработки данных и обучения нейронной сети, была получена точность 0.9215."
      ]
    },
    {
      "cell_type": "markdown",
      "metadata": {
        "id": "_JeNZ9QIHkzK"
      },
      "source": [
        "Получим ответ для соревнования на Kaggle:"
      ]
    },
    {
      "cell_type": "code",
      "execution_count": 70,
      "metadata": {
        "id": "MYhE4gAEsHoo"
      },
      "outputs": [],
      "source": [
        "raw_data_test = pd.read_parquet(os.path.join(df, 'test.parquet'))\n",
        "nn_data_test = raw_data_test\n",
        "nn_data_test['Body'] = raw_data_test['Body'].apply(str).apply(str.lower).apply(word_tokenize)\n",
        "nn_data_test['Title'] = raw_data_test['Title'].apply(str).apply(str.lower).apply(word_tokenize)\n",
        "nn_data_test['Tags'] = nn_data_test['Tags'].apply(lambda companies: companies if companies in recognized_companies else 'Other')"
      ]
    },
    {
      "cell_type": "code",
      "execution_count": 71,
      "metadata": {
        "id": "AcDmKH4R5pGI"
      },
      "outputs": [],
      "source": [
        "def make_test_batch(data, max_len=None, word_dropout=0):\n",
        "    batch = {}\n",
        "    batch['Title'] = as_matrix(data['Title'].values, max_len)\n",
        "    batch['Body'] = as_matrix(data['Body'].values, max_len)\n",
        "    batch['Categorical'] = categorical_vectorizer.transform(data[categorical_columns].apply(dict, axis=1))\n",
        "  \n",
        "    if target_column in ['Title', 'Body', 'Categorical']:\n",
        "        batch[target_column] = data[target_column].values\n",
        "    return batch"
      ]
    },
    {
      "cell_type": "code",
      "execution_count": 72,
      "metadata": {
        "id": "efbZ5hEr568v"
      },
      "outputs": [],
      "source": [
        "pred = model.predict(make_test_batch(nn_data_test))"
      ]
    },
    {
      "cell_type": "code",
      "execution_count": 73,
      "metadata": {
        "id": "Md76sYFo5_0P"
      },
      "outputs": [],
      "source": [
        "pred = list(map(np.argmax, pred))"
      ]
    },
    {
      "cell_type": "code",
      "execution_count": 74,
      "metadata": {
        "id": "_b8ZDesF6btL"
      },
      "outputs": [],
      "source": [
        "submission = pd.DataFrame(data={'Id':nn_data_test.index.tolist(), 'Predicted': pred})"
      ]
    },
    {
      "cell_type": "code",
      "execution_count": 75,
      "metadata": {
        "id": "3kO7N7XK6b1H"
      },
      "outputs": [],
      "source": [
        "submission.to_csv(os.path.join(df, 'submission.csv'), index=False)"
      ]
    }
  ],
  "metadata": {
    "accelerator": "GPU",
    "colab": {
      "collapsed_sections": [],
      "name": "Lab1_classification_Petrov.ipynb",
      "provenance": []
    },
    "kernelspec": {
      "display_name": "Python 3",
      "name": "python3"
    },
    "language_info": {
      "name": "python"
    }
  },
  "nbformat": 4,
  "nbformat_minor": 0
}
